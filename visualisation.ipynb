{
 "cells": [
  {
   "cell_type": "code",
   "execution_count": 2,
   "metadata": {},
   "outputs": [],
   "source": [
    "import numpy as np\n",
    "from stl import mesh\n",
    "import vtk\n",
    "import stl"
   ]
  },
  {
   "cell_type": "code",
   "execution_count": 3,
   "metadata": {},
   "outputs": [
    {
     "name": "stdout",
     "output_type": "stream",
     "text": [
      "Number of vertices: 569634\n",
      "Number of faces: 189878\n"
     ]
    }
   ],
   "source": [
    "# Load the STL file and extract the vertices and faces\n",
    "path=r\"C:\\Users\\Emman\\Desktop\\JE\\Ortho\\OrthoCAD_Export_43495989\\43495989_shell_occlusion_l.stl\"\n",
    "stl_file = mesh.Mesh.from_file(path)\n",
    "vertices = stl_file.vectors.reshape(-1, 3)\n",
    "faces = np.arange(len(vertices)).reshape(-1, 3)\n",
    "\n",
    "# Print the number of vertices and faces in the mesh\n",
    "print(f\"Number of vertices: {len(vertices)}\")\n",
    "print(f\"Number of faces: {len(faces)}\")\n"
   ]
  },
  {
   "cell_type": "code",
   "execution_count": 4,
   "metadata": {},
   "outputs": [],
   "source": [
    "reader = vtk.vtkSTLReader()\n",
    "reader.SetFileName(path)\n",
    "reader.Update()\n",
    "\n",
    "renderer = vtk.vtkRenderer()\n",
    "\n",
    "mapper = vtk.vtkPolyDataMapper()\n",
    "mapper.SetInputConnection(reader.GetOutputPort())\n",
    "\n",
    "actor = vtk.vtkActor()\n",
    "actor.SetMapper(mapper)\n",
    "\n",
    "renderer.AddActor(actor)\n",
    "\n",
    "render_window = vtk.vtkRenderWindow()\n",
    "render_window.AddRenderer(renderer)\n",
    "\n",
    "interactor = vtk.vtkRenderWindowInteractor()\n",
    "interactor.SetRenderWindow(render_window)\n",
    "\n",
    "render_window.Render()\n",
    "interactor.Start()"
   ]
  },
  {
   "cell_type": "code",
   "execution_count": null,
   "metadata": {},
   "outputs": [],
   "source": []
  }
 ],
 "metadata": {
  "kernelspec": {
   "display_name": "ortho-je",
   "language": "python",
   "name": "python3"
  },
  "language_info": {
   "codemirror_mode": {
    "name": "ipython",
    "version": 3
   },
   "file_extension": ".py",
   "mimetype": "text/x-python",
   "name": "python",
   "nbconvert_exporter": "python",
   "pygments_lexer": "ipython3",
   "version": "3.11.4"
  },
  "orig_nbformat": 4
 },
 "nbformat": 4,
 "nbformat_minor": 2
}
